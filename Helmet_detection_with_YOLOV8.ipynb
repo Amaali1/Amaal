{
  "metadata": {
    "kernelspec": {
      "language": "python",
      "display_name": "Python 3",
      "name": "python3"
    },
    "language_info": {
      "pygments_lexer": "ipython3",
      "nbconvert_exporter": "python",
      "version": "3.6.4",
      "file_extension": ".py",
      "codemirror_mode": {
        "name": "ipython",
        "version": 3
      },
      "name": "python",
      "mimetype": "text/x-python"
    },
    "kaggle": {
      "accelerator": "none",
      "dataSources": [
        {
          "sourceId": 1411367,
          "sourceType": "datasetVersion",
          "datasetId": 825603
        }
      ],
      "dockerImageVersionId": 30474,
      "isInternetEnabled": false,
      "language": "python",
      "sourceType": "notebook",
      "isGpuEnabled": false
    },
    "colab": {
      "name": "Helmet detection with YOLOV8",
      "provenance": [],
      "include_colab_link": true
    }
  },
  "nbformat_minor": 0,
  "nbformat": 4,
  "cells": [
    {
      "cell_type": "markdown",
      "metadata": {
        "id": "view-in-github",
        "colab_type": "text"
      },
      "source": [
        "<a href=\"https://colab.research.google.com/github/Amaali1/Amaal/blob/main/Helmet_detection_with_YOLOV8.ipynb\" target=\"_parent\"><img src=\"https://colab.research.google.com/assets/colab-badge.svg\" alt=\"Open In Colab\"/></a>"
      ]
    },
    {
      "source": [
        "\n",
        "# IMPORTANT: RUN THIS CELL IN ORDER TO IMPORT YOUR KAGGLE DATA SOURCES\n",
        "# TO THE CORRECT LOCATION (/kaggle/input) IN YOUR NOTEBOOK,\n",
        "# THEN FEEL FREE TO DELETE THIS CELL.\n",
        "# NOTE: THIS NOTEBOOK ENVIRONMENT DIFFERS FROM KAGGLE'S PYTHON\n",
        "# ENVIRONMENT SO THERE MAY BE MISSING LIBRARIES USED BY YOUR\n",
        "# NOTEBOOK.\n",
        "\n",
        "import os\n",
        "import sys\n",
        "from tempfile import NamedTemporaryFile\n",
        "from urllib.request import urlopen\n",
        "from urllib.parse import unquote, urlparse\n",
        "from urllib.error import HTTPError\n",
        "from zipfile import ZipFile\n",
        "import tarfile\n",
        "import shutil\n",
        "\n",
        "CHUNK_SIZE = 40960\n",
        "DATA_SOURCE_MAPPING = 'hard-hat-detection:https%3A%2F%2Fstorage.googleapis.com%2Fkaggle-data-sets%2F825603%2F1411367%2Fbundle%2Farchive.zip%3FX-Goog-Algorithm%3DGOOG4-RSA-SHA256%26X-Goog-Credential%3Dgcp-kaggle-com%2540kaggle-161607.iam.gserviceaccount.com%252F20240925%252Fauto%252Fstorage%252Fgoog4_request%26X-Goog-Date%3D20240925T131923Z%26X-Goog-Expires%3D259200%26X-Goog-SignedHeaders%3Dhost%26X-Goog-Signature%3D14da0841fec6d73ea85c85fd352aeab8357c79cf36185a709d894d5f82f3c1ca51b92ce9f9c1508ca587ec72f176ad128d00ba8bbd32f8342a14ff1373cd85f19623f32fa2f8eb78b0753c2438977444125b83dcf512f54f54a93b588f202237cfed852c9b9bf818190468d03d7ac9dacf3d8da2b6d41fbacb1ff007fa0dfdf118004dfcb9a43e1b2fc0dc25811fd9ace6b60718ff2b1ec10b93dcc5c9507584e61cee8637c9bc0ad1d0a9978157fb79ee80dd6d49e59f6649cf10172a32f87025e6c35e00214c5c12ab286ee5608fafa2f6ac8cdee494b873666d4d5d6ddf55067dd6777536dabf72334bbb5bdac97fd65eba1502e5e7841b756a37b216be36'\n",
        "\n",
        "KAGGLE_INPUT_PATH='/kaggle/input'\n",
        "KAGGLE_WORKING_PATH='/kaggle/working'\n",
        "KAGGLE_SYMLINK='kaggle'\n",
        "\n",
        "!umount /kaggle/input/ 2> /dev/null\n",
        "shutil.rmtree('/kaggle/input', ignore_errors=True)\n",
        "os.makedirs(KAGGLE_INPUT_PATH, 0o777, exist_ok=True)\n",
        "os.makedirs(KAGGLE_WORKING_PATH, 0o777, exist_ok=True)\n",
        "\n",
        "try:\n",
        "  os.symlink(KAGGLE_INPUT_PATH, os.path.join(\"..\", 'input'), target_is_directory=True)\n",
        "except FileExistsError:\n",
        "  pass\n",
        "try:\n",
        "  os.symlink(KAGGLE_WORKING_PATH, os.path.join(\"..\", 'working'), target_is_directory=True)\n",
        "except FileExistsError:\n",
        "  pass\n",
        "\n",
        "for data_source_mapping in DATA_SOURCE_MAPPING.split(','):\n",
        "    directory, download_url_encoded = data_source_mapping.split(':')\n",
        "    download_url = unquote(download_url_encoded)\n",
        "    filename = urlparse(download_url).path\n",
        "    destination_path = os.path.join(KAGGLE_INPUT_PATH, directory)\n",
        "    try:\n",
        "        with urlopen(download_url) as fileres, NamedTemporaryFile() as tfile:\n",
        "            total_length = fileres.headers['content-length']\n",
        "            print(f'Downloading {directory}, {total_length} bytes compressed')\n",
        "            dl = 0\n",
        "            data = fileres.read(CHUNK_SIZE)\n",
        "            while len(data) > 0:\n",
        "                dl += len(data)\n",
        "                tfile.write(data)\n",
        "                done = int(50 * dl / int(total_length))\n",
        "                sys.stdout.write(f\"\\r[{'=' * done}{' ' * (50-done)}] {dl} bytes downloaded\")\n",
        "                sys.stdout.flush()\n",
        "                data = fileres.read(CHUNK_SIZE)\n",
        "            if filename.endswith('.zip'):\n",
        "              with ZipFile(tfile) as zfile:\n",
        "                zfile.extractall(destination_path)\n",
        "            else:\n",
        "              with tarfile.open(tfile.name) as tarfile:\n",
        "                tarfile.extractall(destination_path)\n",
        "            print(f'\\nDownloaded and uncompressed: {directory}')\n",
        "    except HTTPError as e:\n",
        "        print(f'Failed to load (likely expired) {download_url} to path {destination_path}')\n",
        "        continue\n",
        "    except OSError as e:\n",
        "        print(f'Failed to load {download_url} to path {destination_path}')\n",
        "        continue\n",
        "\n",
        "print('Data source import complete.')\n"
      ],
      "metadata": {
        "id": "oQLb3CvSVm2M",
        "outputId": "a001cc4e-0f82-42be-e384-8ecf91c318e0",
        "colab": {
          "base_uri": "https://localhost:8080/"
        }
      },
      "cell_type": "code",
      "outputs": [
        {
          "output_type": "stream",
          "name": "stdout",
          "text": [
            "Downloading hard-hat-detection, 1314241385 bytes compressed\n",
            "[==================================================] 1314241385 bytes downloaded\n",
            "Downloaded and uncompressed: hard-hat-detection\n",
            "Data source import complete.\n"
          ]
        }
      ],
      "execution_count": 1
    },
    {
      "cell_type": "code",
      "source": [
        "import numpy as np # linear algebra\n",
        "import pandas as pd # data processing, CSV file I/O (e.g. pd.read_csv)\n",
        "\n",
        "# Input data files are available in the read-only \"../input/\" directory\n",
        "# For example, running this (by clicking run or pressing Shift+Enter) will list all files under the input directory\n",
        "from pathlib import Path\n",
        "from xml.dom.minidom import parse\n",
        "from shutil import copyfile\n",
        "import os\n",
        "# You can write up to 20GB to the current directory (/kaggle/working/) that gets preserved as output when you create a version using \"Save & Run All\"\n",
        "# You can also write temporary files to /kaggle/temp/, but they won't be saved outside of the current session"
      ],
      "metadata": {
        "_uuid": "8f2839f25d086af736a60e9eeb907d3b93b6e0e5",
        "_cell_guid": "b1076dfc-b9ad-4769-8c92-a6c4dae69d19",
        "execution": {
          "iopub.status.busy": "2023-05-03T03:33:21.620044Z",
          "iopub.execute_input": "2023-05-03T03:33:21.620384Z",
          "iopub.status.idle": "2023-05-03T03:33:21.632178Z",
          "shell.execute_reply.started": "2023-05-03T03:33:21.620353Z",
          "shell.execute_reply": "2023-05-03T03:33:21.631269Z"
        },
        "trusted": true,
        "id": "Q0E-OPD3Vm2S"
      },
      "execution_count": 2,
      "outputs": []
    },
    {
      "cell_type": "code",
      "source": [
        "!mkdir -p Dataset/labels\n",
        "!mkdir -p Dataset/images"
      ],
      "metadata": {
        "execution": {
          "iopub.status.busy": "2023-05-03T03:33:21.634437Z",
          "iopub.execute_input": "2023-05-03T03:33:21.635153Z",
          "iopub.status.idle": "2023-05-03T03:33:23.725009Z",
          "shell.execute_reply.started": "2023-05-03T03:33:21.63512Z",
          "shell.execute_reply": "2023-05-03T03:33:23.723216Z"
        },
        "trusted": true,
        "id": "VLZAZG7PVm2T"
      },
      "execution_count": 3,
      "outputs": []
    },
    {
      "cell_type": "code",
      "source": [
        "classes = ['helmet','head','person']"
      ],
      "metadata": {
        "execution": {
          "iopub.status.busy": "2023-05-03T03:33:23.727792Z",
          "iopub.execute_input": "2023-05-03T03:33:23.728626Z",
          "iopub.status.idle": "2023-05-03T03:33:23.736008Z",
          "shell.execute_reply.started": "2023-05-03T03:33:23.728586Z",
          "shell.execute_reply": "2023-05-03T03:33:23.735104Z"
        },
        "trusted": true,
        "id": "mJWqKgQfVm2T"
      },
      "execution_count": 4,
      "outputs": []
    },
    {
      "cell_type": "code",
      "source": [
        "def convert_annot(size , box):\n",
        "    x1 = int(box[0])\n",
        "    y1 = int(box[1])\n",
        "    x2 = int(box[2])\n",
        "    y2 = int(box[3])\n",
        "\n",
        "    dw = np.float32(1. / int(size[0]))\n",
        "    dh = np.float32(1. / int(size[1]))\n",
        "\n",
        "    w = x2 - x1\n",
        "    h = y2 - y1\n",
        "    x = x1 + (w / 2)\n",
        "    y = y1 + (h / 2)\n",
        "\n",
        "    x = x * dw\n",
        "    w = w * dw\n",
        "    y = y * dh\n",
        "    h = h * dh\n",
        "    return [x, y, w, h]"
      ],
      "metadata": {
        "execution": {
          "iopub.status.busy": "2023-05-03T03:33:23.739437Z",
          "iopub.execute_input": "2023-05-03T03:33:23.740249Z",
          "iopub.status.idle": "2023-05-03T03:33:23.74801Z",
          "shell.execute_reply.started": "2023-05-03T03:33:23.740214Z",
          "shell.execute_reply": "2023-05-03T03:33:23.746936Z"
        },
        "trusted": true,
        "id": "YvpZmohsVm2T"
      },
      "execution_count": 5,
      "outputs": []
    },
    {
      "cell_type": "code",
      "source": [
        "def save_txt_file(img_jpg_file_name, size, img_box):\n",
        "    save_file_name = '/kaggle/working/Dataset/labels/' +  img_jpg_file_name + '.txt'\n",
        "\n",
        "    #file_path = open(save_file_name, \"a+\")\n",
        "    with open(save_file_name ,'a+') as file_path:\n",
        "        for box in img_box:\n",
        "\n",
        "            cls_num = classes.index(box[0])\n",
        "\n",
        "            new_box = convert_annot(size, box[1:])\n",
        "\n",
        "            file_path.write(f\"{cls_num} {new_box[0]} {new_box[1]} {new_box[2]} {new_box[3]}\\n\")\n",
        "\n",
        "        file_path.flush()\n",
        "        file_path.close()"
      ],
      "metadata": {
        "execution": {
          "iopub.status.busy": "2023-05-03T03:33:23.749858Z",
          "iopub.execute_input": "2023-05-03T03:33:23.750609Z",
          "iopub.status.idle": "2023-05-03T03:33:23.757652Z",
          "shell.execute_reply.started": "2023-05-03T03:33:23.750578Z",
          "shell.execute_reply": "2023-05-03T03:33:23.756666Z"
        },
        "trusted": true,
        "id": "bd_DNvynVm2U"
      },
      "execution_count": 6,
      "outputs": []
    },
    {
      "cell_type": "code",
      "source": [
        "def get_xml_data(file_path, img_xml_file):\n",
        "    img_path = file_path + '/' + img_xml_file + '.xml'\n",
        "    #print(img_path)\n",
        "\n",
        "    dom = parse(img_path)\n",
        "    root = dom.documentElement\n",
        "    img_name = root.getElementsByTagName(\"filename\")[0].childNodes[0].data\n",
        "    img_size = root.getElementsByTagName(\"size\")[0]\n",
        "    objects = root.getElementsByTagName(\"object\")\n",
        "    img_w = img_size.getElementsByTagName(\"width\")[0].childNodes[0].data\n",
        "    img_h = img_size.getElementsByTagName(\"height\")[0].childNodes[0].data\n",
        "    img_c = img_size.getElementsByTagName(\"depth\")[0].childNodes[0].data\n",
        "\n",
        "    img_box = []\n",
        "    for box in objects:\n",
        "        cls_name = box.getElementsByTagName(\"name\")[0].childNodes[0].data\n",
        "        x1 = int(box.getElementsByTagName(\"xmin\")[0].childNodes[0].data)\n",
        "        y1 = int(box.getElementsByTagName(\"ymin\")[0].childNodes[0].data)\n",
        "        x2 = int(box.getElementsByTagName(\"xmax\")[0].childNodes[0].data)\n",
        "        y2 = int(box.getElementsByTagName(\"ymax\")[0].childNodes[0].data)\n",
        "\n",
        "        img_jpg_file_name = img_xml_file + '.jpg'\n",
        "        img_box.append([cls_name, x1, y1, x2, y2])\n",
        "\n",
        "\n",
        "    # test_dataset_box_feature(img_jpg_file_name, img_box)\n",
        "    save_txt_file(img_xml_file, [img_w, img_h], img_box)"
      ],
      "metadata": {
        "execution": {
          "iopub.status.busy": "2023-05-03T03:33:23.759537Z",
          "iopub.execute_input": "2023-05-03T03:33:23.760195Z",
          "iopub.status.idle": "2023-05-03T03:33:23.779335Z",
          "shell.execute_reply.started": "2023-05-03T03:33:23.760165Z",
          "shell.execute_reply": "2023-05-03T03:33:23.778443Z"
        },
        "trusted": true,
        "id": "K2THAPq1Vm2U"
      },
      "execution_count": 7,
      "outputs": []
    },
    {
      "cell_type": "code",
      "source": [
        "os.makedirs('/kaggle/working/Dataset/labels', exist_ok=True)\n",
        "!ls /kaggle/working/Dataset/labels"
      ],
      "metadata": {
        "execution": {
          "iopub.status.busy": "2023-05-03T03:33:23.780867Z",
          "iopub.execute_input": "2023-05-03T03:33:23.78166Z",
          "iopub.status.idle": "2023-05-03T03:33:24.789251Z",
          "shell.execute_reply.started": "2023-05-03T03:33:23.781611Z",
          "shell.execute_reply": "2023-05-03T03:33:24.787979Z"
        },
        "trusted": true,
        "id": "pz25_7cxVm2V"
      },
      "execution_count": 9,
      "outputs": []
    },
    {
      "cell_type": "code",
      "source": [
        "files = os.listdir('/kaggle/input/hard-hat-detection/annotations')\n",
        "for file in files:\n",
        "    file_xml = file.split(\".\")\n",
        "    get_xml_data('/kaggle/input/hard-hat-detection/annotations', file_xml[0])"
      ],
      "metadata": {
        "execution": {
          "iopub.status.busy": "2023-05-03T03:33:24.791319Z",
          "iopub.execute_input": "2023-05-03T03:33:24.791707Z",
          "iopub.status.idle": "2023-05-03T03:34:21.191341Z",
          "shell.execute_reply.started": "2023-05-03T03:33:24.791669Z",
          "shell.execute_reply": "2023-05-03T03:34:21.190384Z"
        },
        "trusted": true,
        "id": "7Nw3WuRVVm2V"
      },
      "execution_count": 10,
      "outputs": []
    },
    {
      "cell_type": "code",
      "source": [
        "from sklearn.model_selection import train_test_split\n",
        "image_list = os.listdir('/kaggle/input/hard-hat-detection/images')\n",
        "train_list, test_list = train_test_split(image_list, test_size=0.2, random_state=42)\n",
        "val_list, test_list = train_test_split(test_list, test_size=0.5, random_state=42)\n",
        "print('total =',len(image_list))\n",
        "print('train :',len(train_list))\n",
        "print('val   :',len(val_list))\n",
        "print('test  :',len(test_list))"
      ],
      "metadata": {
        "execution": {
          "iopub.status.busy": "2023-05-03T03:34:21.19266Z",
          "iopub.execute_input": "2023-05-03T03:34:21.192995Z",
          "iopub.status.idle": "2023-05-03T03:34:23.1011Z",
          "shell.execute_reply.started": "2023-05-03T03:34:21.19296Z",
          "shell.execute_reply": "2023-05-03T03:34:23.100178Z"
        },
        "trusted": true,
        "id": "JDLSv7sEVm2W",
        "outputId": "29d18897-4fb4-4bf5-ffaf-a810b4321819",
        "colab": {
          "base_uri": "https://localhost:8080/"
        }
      },
      "execution_count": 11,
      "outputs": [
        {
          "output_type": "stream",
          "name": "stdout",
          "text": [
            "total = 5000\n",
            "train : 4000\n",
            "val   : 500\n",
            "test  : 500\n"
          ]
        }
      ]
    },
    {
      "cell_type": "code",
      "source": [
        "def copy_data(file_list, img_labels_root, imgs_source, mode):\n",
        "\n",
        "    root_file = Path( '/kaggle/working/Dataset/images/'+  mode)\n",
        "    if not root_file.exists():\n",
        "        print(f\"Path {root_file} does not exit\")\n",
        "        os.makedirs(root_file)\n",
        "\n",
        "    root_file = Path('/kaggle/working/Dataset/labels/' + mode)\n",
        "    if not root_file.exists():\n",
        "        print(f\"Path {root_file} does not exit\")\n",
        "        os.makedirs(root_file)\n",
        "\n",
        "    for file in file_list:\n",
        "        img_name = file.replace('.png', '')\n",
        "        img_src_file = imgs_source + '/' + img_name + '.png'\n",
        "        label_src_file = img_labels_root + '/' + img_name + '.txt'\n",
        "\n",
        "        #print(img_sor_file)\n",
        "        #print(label_sor_file)\n",
        "        # im = Image.open(rf\"{img_sor_file}\")\n",
        "        # im.show()\n",
        "\n",
        "        # Copy image\n",
        "        DICT_DIR = '/kaggle/working/Dataset/images/'  + mode\n",
        "        img_dict_file = DICT_DIR + '/' + img_name + '.png'\n",
        "\n",
        "        copyfile(img_src_file, img_dict_file)\n",
        "\n",
        "        # Copy label\n",
        "        DICT_DIR = '/kaggle/working/Dataset/labels/' + mode\n",
        "        img_dict_file = DICT_DIR + '/' + img_name + '.txt'\n",
        "        copyfile(label_src_file, img_dict_file)"
      ],
      "metadata": {
        "execution": {
          "iopub.status.busy": "2023-05-03T03:34:23.105396Z",
          "iopub.execute_input": "2023-05-03T03:34:23.106175Z",
          "iopub.status.idle": "2023-05-03T03:34:23.114602Z",
          "shell.execute_reply.started": "2023-05-03T03:34:23.106139Z",
          "shell.execute_reply": "2023-05-03T03:34:23.113679Z"
        },
        "trusted": true,
        "id": "Y-uaQONaVm2W"
      },
      "execution_count": 12,
      "outputs": []
    },
    {
      "cell_type": "code",
      "source": [
        "!ls /kaggle/working/Dataset/\n",
        "!ls /kaggle/working/Dataset/images\n",
        "import os\n",
        "\n",
        "image_dir = '/kaggle/working/Dataset/images/train'\n",
        "label_dir = '/kaggle/working/Dataset/labels/train'\n",
        "\n",
        "images = os.listdir(image_dir)\n",
        "labels = os.listdir(label_dir)\n",
        "\n",
        "for img in images:\n",
        "    label_file = img.replace('.png', '.txt')  # Replace with correct extension if needed\n",
        "    if label_file not in labels:\n",
        "        os.remove(f'{image_dir}/{img}')  # Remove image without label\n",
        "        print(f\"Removed {img} as it has no corresponding label\")\n",
        "\n",
        "\n",
        "import os\n",
        "\n",
        "image_dir = '/kaggle/working/Dataset/images/train'\n",
        "\n",
        "# List all remaining images\n",
        "remaining_images = os.listdir(image_dir)\n",
        "\n",
        "# Count the number of remaining images\n",
        "print(f\"Number of remaining images: {len(remaining_images)}\")\n",
        "\n",
        "\n",
        "copy_data(train_list, '/kaggle/working/Dataset/labels', '/kaggle/input/hard-hat-detection/images', \"train\")\n",
        "copy_data(val_list,   '/kaggle/working/Dataset/labels', '/kaggle/input/hard-hat-detection/images', \"val\")\n",
        "copy_data(test_list,  '/kaggle/working/Dataset/labels', '/kaggle/input/hard-hat-detection/images', \"test\")"
      ],
      "metadata": {
        "execution": {
          "iopub.status.busy": "2023-05-03T03:34:23.115846Z",
          "iopub.execute_input": "2023-05-03T03:34:23.116247Z",
          "iopub.status.idle": "2023-05-03T03:35:33.449829Z",
          "shell.execute_reply.started": "2023-05-03T03:34:23.116217Z",
          "shell.execute_reply": "2023-05-03T03:35:33.448669Z"
        },
        "trusted": true,
        "id": "mm4Y9SiqVm2W",
        "outputId": "74edfdc6-9417-4b01-afd9-c2d9a854889e",
        "colab": {
          "base_uri": "https://localhost:8080/"
        }
      },
      "execution_count": 19,
      "outputs": [
        {
          "output_type": "stream",
          "name": "stdout",
          "text": [
            "images\tlabels\n",
            "test  train  val\n",
            "Number of remaining images: 4000\n"
          ]
        }
      ]
    },
    {
      "cell_type": "code",
      "source": [
        "!ls /kaggle/working/Dataset/images"
      ],
      "metadata": {
        "execution": {
          "iopub.status.busy": "2023-05-03T03:35:33.451344Z",
          "iopub.execute_input": "2023-05-03T03:35:33.451704Z",
          "iopub.status.idle": "2023-05-03T03:35:34.427476Z",
          "shell.execute_reply.started": "2023-05-03T03:35:33.451667Z",
          "shell.execute_reply": "2023-05-03T03:35:34.426301Z"
        },
        "trusted": true,
        "id": "f0OuJH2ZVm2X",
        "outputId": "9f98ea15-30fc-41cc-8e70-618d0a877668",
        "colab": {
          "base_uri": "https://localhost:8080/"
        }
      },
      "execution_count": 20,
      "outputs": [
        {
          "output_type": "stream",
          "name": "stdout",
          "text": [
            "test  train  val\n"
          ]
        }
      ]
    },
    {
      "cell_type": "code",
      "source": [
        "!git clone https://github.com/ultralytics/ultralytics\n",
        "!pip install ultralytics"
      ],
      "metadata": {
        "execution": {
          "iopub.status.busy": "2023-05-03T03:35:34.429508Z",
          "iopub.execute_input": "2023-05-03T03:35:34.429887Z",
          "iopub.status.idle": "2023-05-03T03:35:51.999529Z",
          "shell.execute_reply.started": "2023-05-03T03:35:34.42985Z",
          "shell.execute_reply": "2023-05-03T03:35:51.99808Z"
        },
        "trusted": true,
        "id": "vyUwRZgkVm2X",
        "outputId": "6c22b098-0ba1-437a-96ae-21b07f85b8ae",
        "colab": {
          "base_uri": "https://localhost:8080/"
        }
      },
      "execution_count": 21,
      "outputs": [
        {
          "output_type": "stream",
          "name": "stdout",
          "text": [
            "Cloning into 'ultralytics'...\n",
            "remote: Enumerating objects: 42356, done.\u001b[K\n",
            "remote: Counting objects: 100% (1923/1923), done.\u001b[K\n",
            "remote: Compressing objects: 100% (1013/1013), done.\u001b[K\n",
            "remote: Total 42356 (delta 1218), reused 1452 (delta 901), pack-reused 40433 (from 1)\u001b[K\n",
            "Receiving objects: 100% (42356/42356), 32.36 MiB | 21.75 MiB/s, done.\n",
            "Resolving deltas: 100% (31167/31167), done.\n",
            "Collecting ultralytics\n",
            "  Downloading ultralytics-8.2.101-py3-none-any.whl.metadata (39 kB)\n",
            "Requirement already satisfied: numpy<2.0.0,>=1.23.0 in /usr/local/lib/python3.10/dist-packages (from ultralytics) (1.26.4)\n",
            "Requirement already satisfied: matplotlib>=3.3.0 in /usr/local/lib/python3.10/dist-packages (from ultralytics) (3.7.1)\n",
            "Requirement already satisfied: opencv-python>=4.6.0 in /usr/local/lib/python3.10/dist-packages (from ultralytics) (4.10.0.84)\n",
            "Requirement already satisfied: pillow>=7.1.2 in /usr/local/lib/python3.10/dist-packages (from ultralytics) (10.4.0)\n",
            "Requirement already satisfied: pyyaml>=5.3.1 in /usr/local/lib/python3.10/dist-packages (from ultralytics) (6.0.2)\n",
            "Requirement already satisfied: requests>=2.23.0 in /usr/local/lib/python3.10/dist-packages (from ultralytics) (2.32.3)\n",
            "Requirement already satisfied: scipy>=1.4.1 in /usr/local/lib/python3.10/dist-packages (from ultralytics) (1.13.1)\n",
            "Requirement already satisfied: torch>=1.8.0 in /usr/local/lib/python3.10/dist-packages (from ultralytics) (2.4.1+cu121)\n",
            "Requirement already satisfied: torchvision>=0.9.0 in /usr/local/lib/python3.10/dist-packages (from ultralytics) (0.19.1+cu121)\n",
            "Requirement already satisfied: tqdm>=4.64.0 in /usr/local/lib/python3.10/dist-packages (from ultralytics) (4.66.5)\n",
            "Requirement already satisfied: psutil in /usr/local/lib/python3.10/dist-packages (from ultralytics) (5.9.5)\n",
            "Requirement already satisfied: py-cpuinfo in /usr/local/lib/python3.10/dist-packages (from ultralytics) (9.0.0)\n",
            "Requirement already satisfied: pandas>=1.1.4 in /usr/local/lib/python3.10/dist-packages (from ultralytics) (2.1.4)\n",
            "Requirement already satisfied: seaborn>=0.11.0 in /usr/local/lib/python3.10/dist-packages (from ultralytics) (0.13.1)\n",
            "Collecting ultralytics-thop>=2.0.0 (from ultralytics)\n",
            "  Downloading ultralytics_thop-2.0.8-py3-none-any.whl.metadata (9.3 kB)\n",
            "Requirement already satisfied: contourpy>=1.0.1 in /usr/local/lib/python3.10/dist-packages (from matplotlib>=3.3.0->ultralytics) (1.3.0)\n",
            "Requirement already satisfied: cycler>=0.10 in /usr/local/lib/python3.10/dist-packages (from matplotlib>=3.3.0->ultralytics) (0.12.1)\n",
            "Requirement already satisfied: fonttools>=4.22.0 in /usr/local/lib/python3.10/dist-packages (from matplotlib>=3.3.0->ultralytics) (4.53.1)\n",
            "Requirement already satisfied: kiwisolver>=1.0.1 in /usr/local/lib/python3.10/dist-packages (from matplotlib>=3.3.0->ultralytics) (1.4.7)\n",
            "Requirement already satisfied: packaging>=20.0 in /usr/local/lib/python3.10/dist-packages (from matplotlib>=3.3.0->ultralytics) (24.1)\n",
            "Requirement already satisfied: pyparsing>=2.3.1 in /usr/local/lib/python3.10/dist-packages (from matplotlib>=3.3.0->ultralytics) (3.1.4)\n",
            "Requirement already satisfied: python-dateutil>=2.7 in /usr/local/lib/python3.10/dist-packages (from matplotlib>=3.3.0->ultralytics) (2.8.2)\n",
            "Requirement already satisfied: pytz>=2020.1 in /usr/local/lib/python3.10/dist-packages (from pandas>=1.1.4->ultralytics) (2024.2)\n",
            "Requirement already satisfied: tzdata>=2022.1 in /usr/local/lib/python3.10/dist-packages (from pandas>=1.1.4->ultralytics) (2024.1)\n",
            "Requirement already satisfied: charset-normalizer<4,>=2 in /usr/local/lib/python3.10/dist-packages (from requests>=2.23.0->ultralytics) (3.3.2)\n",
            "Requirement already satisfied: idna<4,>=2.5 in /usr/local/lib/python3.10/dist-packages (from requests>=2.23.0->ultralytics) (3.10)\n",
            "Requirement already satisfied: urllib3<3,>=1.21.1 in /usr/local/lib/python3.10/dist-packages (from requests>=2.23.0->ultralytics) (2.2.3)\n",
            "Requirement already satisfied: certifi>=2017.4.17 in /usr/local/lib/python3.10/dist-packages (from requests>=2.23.0->ultralytics) (2024.8.30)\n",
            "Requirement already satisfied: filelock in /usr/local/lib/python3.10/dist-packages (from torch>=1.8.0->ultralytics) (3.16.1)\n",
            "Requirement already satisfied: typing-extensions>=4.8.0 in /usr/local/lib/python3.10/dist-packages (from torch>=1.8.0->ultralytics) (4.12.2)\n",
            "Requirement already satisfied: sympy in /usr/local/lib/python3.10/dist-packages (from torch>=1.8.0->ultralytics) (1.13.3)\n",
            "Requirement already satisfied: networkx in /usr/local/lib/python3.10/dist-packages (from torch>=1.8.0->ultralytics) (3.3)\n",
            "Requirement already satisfied: jinja2 in /usr/local/lib/python3.10/dist-packages (from torch>=1.8.0->ultralytics) (3.1.4)\n",
            "Requirement already satisfied: fsspec in /usr/local/lib/python3.10/dist-packages (from torch>=1.8.0->ultralytics) (2024.6.1)\n",
            "Requirement already satisfied: six>=1.5 in /usr/local/lib/python3.10/dist-packages (from python-dateutil>=2.7->matplotlib>=3.3.0->ultralytics) (1.16.0)\n",
            "Requirement already satisfied: MarkupSafe>=2.0 in /usr/local/lib/python3.10/dist-packages (from jinja2->torch>=1.8.0->ultralytics) (2.1.5)\n",
            "Requirement already satisfied: mpmath<1.4,>=1.1.0 in /usr/local/lib/python3.10/dist-packages (from sympy->torch>=1.8.0->ultralytics) (1.3.0)\n",
            "Downloading ultralytics-8.2.101-py3-none-any.whl (874 kB)\n",
            "\u001b[2K   \u001b[90m━━━━━━━━━━━━━━━━━━━━━━━━━━━━━━━━━━━━━━━━\u001b[0m \u001b[32m874.1/874.1 kB\u001b[0m \u001b[31m15.5 MB/s\u001b[0m eta \u001b[36m0:00:00\u001b[0m\n",
            "\u001b[?25hDownloading ultralytics_thop-2.0.8-py3-none-any.whl (26 kB)\n",
            "Installing collected packages: ultralytics-thop, ultralytics\n",
            "Successfully installed ultralytics-8.2.101 ultralytics-thop-2.0.8\n"
          ]
        }
      ]
    },
    {
      "cell_type": "code",
      "source": [
        "import yaml\n",
        "\n",
        "# Create configuration\n",
        "config = {\n",
        "   \"path\": \"/kaggle/working/Dataset/images\",\n",
        "   \"train\": \"train\",\n",
        "   \"val\": \"val\",\n",
        "   \"test\": \"test\",\n",
        "   \"nc\": 3,\n",
        "   \"names\": ['helmet','head','person']\n",
        "}\n",
        "with open(\"data.yaml\", \"w\") as file:\n",
        "   yaml.dump(config, file, default_flow_style=False)"
      ],
      "metadata": {
        "execution": {
          "iopub.status.busy": "2023-05-03T03:35:52.001061Z",
          "iopub.execute_input": "2023-05-03T03:35:52.001459Z",
          "iopub.status.idle": "2023-05-03T03:35:52.033613Z",
          "shell.execute_reply.started": "2023-05-03T03:35:52.001425Z",
          "shell.execute_reply": "2023-05-03T03:35:52.032792Z"
        },
        "trusted": true,
        "id": "fy1MV5X2Vm2Y"
      },
      "execution_count": 22,
      "outputs": []
    },
    {
      "cell_type": "code",
      "source": [
        "!cat data.yaml"
      ],
      "metadata": {
        "execution": {
          "iopub.status.busy": "2023-05-03T03:35:52.034856Z",
          "iopub.execute_input": "2023-05-03T03:35:52.03529Z",
          "iopub.status.idle": "2023-05-03T03:35:52.996897Z",
          "shell.execute_reply.started": "2023-05-03T03:35:52.035259Z",
          "shell.execute_reply": "2023-05-03T03:35:52.995819Z"
        },
        "trusted": true,
        "id": "shJ4SJ2gVm2Y",
        "outputId": "3b5df452-5ab8-489a-c2bd-3b7b5ae21dab",
        "colab": {
          "base_uri": "https://localhost:8080/"
        }
      },
      "execution_count": 23,
      "outputs": [
        {
          "output_type": "stream",
          "name": "stdout",
          "text": [
            "names:\n",
            "- helmet\n",
            "- head\n",
            "- person\n",
            "nc: 3\n",
            "path: /kaggle/working/Dataset/images\n",
            "test: test\n",
            "train: train\n",
            "val: val\n"
          ]
        }
      ]
    },
    {
      "cell_type": "code",
      "source": [
        "!wandb disabled"
      ],
      "metadata": {
        "execution": {
          "iopub.status.busy": "2023-05-03T03:35:52.998798Z",
          "iopub.execute_input": "2023-05-03T03:35:52.999506Z",
          "iopub.status.idle": "2023-05-03T03:35:55.576048Z",
          "shell.execute_reply.started": "2023-05-03T03:35:52.999448Z",
          "shell.execute_reply": "2023-05-03T03:35:55.574865Z"
        },
        "trusted": true,
        "id": "KzBR1ytwVm2Z",
        "outputId": "bf483676-11ac-4bf3-af47-4a3e3ad77b5f",
        "colab": {
          "base_uri": "https://localhost:8080/"
        }
      },
      "execution_count": 24,
      "outputs": [
        {
          "output_type": "stream",
          "name": "stdout",
          "text": [
            "/bin/bash: line 1: wandb: command not found\n"
          ]
        }
      ]
    },
    {
      "cell_type": "code",
      "source": [
        "!yolo task=detect mode=train data=data.yaml model=yolov8s.pt epochs=20 lr0=0.01"
      ],
      "metadata": {
        "execution": {
          "iopub.status.busy": "2023-05-03T03:35:55.578227Z",
          "iopub.execute_input": "2023-05-03T03:35:55.57868Z",
          "iopub.status.idle": "2023-05-03T04:42:27.038837Z",
          "shell.execute_reply.started": "2023-05-03T03:35:55.578635Z",
          "shell.execute_reply": "2023-05-03T04:42:27.037557Z"
        },
        "trusted": true,
        "id": "f3jeHmgaVm2Z",
        "outputId": "544f617e-3034-439b-b678-a09f0482c715",
        "colab": {
          "base_uri": "https://localhost:8080/"
        }
      },
      "execution_count": null,
      "outputs": [
        {
          "output_type": "stream",
          "name": "stdout",
          "text": [
            "Creating new Ultralytics Settings v0.0.6 file ✅ \n",
            "View Ultralytics Settings with 'yolo settings' or at '/root/.config/Ultralytics/settings.json'\n",
            "Update Settings with 'yolo settings key=value', i.e. 'yolo settings runs_dir=path/to/dir'. For help see https://docs.ultralytics.com/quickstart/#ultralytics-settings.\n",
            "Downloading https://github.com/ultralytics/assets/releases/download/v8.2.0/yolov8s.pt to 'yolov8s.pt'...\n",
            "100% 21.5M/21.5M [00:00<00:00, 149MB/s] \n",
            "Ultralytics YOLOv8.2.101 🚀 Python-3.10.12 torch-2.4.1+cu121 CPU (Intel Xeon 2.20GHz)\n",
            "\u001b[34m\u001b[1mengine/trainer: \u001b[0mtask=detect, mode=train, model=yolov8s.pt, data=data.yaml, epochs=20, time=None, patience=100, batch=16, imgsz=640, save=True, save_period=-1, cache=False, device=None, workers=8, project=None, name=train, exist_ok=False, pretrained=True, optimizer=auto, verbose=True, seed=0, deterministic=True, single_cls=False, rect=False, cos_lr=False, close_mosaic=10, resume=False, amp=True, fraction=1.0, profile=False, freeze=None, multi_scale=False, overlap_mask=True, mask_ratio=4, dropout=0.0, val=True, split=val, save_json=False, save_hybrid=False, conf=None, iou=0.7, max_det=300, half=False, dnn=False, plots=True, source=None, vid_stride=1, stream_buffer=False, visualize=False, augment=False, agnostic_nms=False, classes=None, retina_masks=False, embed=None, show=False, save_frames=False, save_txt=False, save_conf=False, save_crop=False, show_labels=True, show_conf=True, show_boxes=True, line_width=None, format=torchscript, keras=False, optimize=False, int8=False, dynamic=False, simplify=True, opset=None, workspace=4, nms=False, lr0=0.01, lrf=0.01, momentum=0.937, weight_decay=0.0005, warmup_epochs=3.0, warmup_momentum=0.8, warmup_bias_lr=0.1, box=7.5, cls=0.5, dfl=1.5, pose=12.0, kobj=1.0, label_smoothing=0.0, nbs=64, hsv_h=0.015, hsv_s=0.7, hsv_v=0.4, degrees=0.0, translate=0.1, scale=0.5, shear=0.0, perspective=0.0, flipud=0.0, fliplr=0.5, bgr=0.0, mosaic=1.0, mixup=0.0, copy_paste=0.0, auto_augment=randaugment, erasing=0.4, crop_fraction=1.0, cfg=None, tracker=botsort.yaml, save_dir=runs/detect/train\n",
            "Downloading https://ultralytics.com/assets/Arial.ttf to '/root/.config/Ultralytics/Arial.ttf'...\n",
            "100% 755k/755k [00:00<00:00, 13.9MB/s]\n",
            "Overriding model.yaml nc=80 with nc=3\n",
            "\n",
            "                   from  n    params  module                                       arguments                     \n",
            "  0                  -1  1       928  ultralytics.nn.modules.conv.Conv             [3, 32, 3, 2]                 \n",
            "  1                  -1  1     18560  ultralytics.nn.modules.conv.Conv             [32, 64, 3, 2]                \n",
            "  2                  -1  1     29056  ultralytics.nn.modules.block.C2f             [64, 64, 1, True]             \n",
            "  3                  -1  1     73984  ultralytics.nn.modules.conv.Conv             [64, 128, 3, 2]               \n",
            "  4                  -1  2    197632  ultralytics.nn.modules.block.C2f             [128, 128, 2, True]           \n",
            "  5                  -1  1    295424  ultralytics.nn.modules.conv.Conv             [128, 256, 3, 2]              \n",
            "  6                  -1  2    788480  ultralytics.nn.modules.block.C2f             [256, 256, 2, True]           \n",
            "  7                  -1  1   1180672  ultralytics.nn.modules.conv.Conv             [256, 512, 3, 2]              \n",
            "  8                  -1  1   1838080  ultralytics.nn.modules.block.C2f             [512, 512, 1, True]           \n",
            "  9                  -1  1    656896  ultralytics.nn.modules.block.SPPF            [512, 512, 5]                 \n",
            " 10                  -1  1         0  torch.nn.modules.upsampling.Upsample         [None, 2, 'nearest']          \n",
            " 11             [-1, 6]  1         0  ultralytics.nn.modules.conv.Concat           [1]                           \n",
            " 12                  -1  1    591360  ultralytics.nn.modules.block.C2f             [768, 256, 1]                 \n",
            " 13                  -1  1         0  torch.nn.modules.upsampling.Upsample         [None, 2, 'nearest']          \n",
            " 14             [-1, 4]  1         0  ultralytics.nn.modules.conv.Concat           [1]                           \n",
            " 15                  -1  1    148224  ultralytics.nn.modules.block.C2f             [384, 128, 1]                 \n",
            " 16                  -1  1    147712  ultralytics.nn.modules.conv.Conv             [128, 128, 3, 2]              \n",
            " 17            [-1, 12]  1         0  ultralytics.nn.modules.conv.Concat           [1]                           \n",
            " 18                  -1  1    493056  ultralytics.nn.modules.block.C2f             [384, 256, 1]                 \n",
            " 19                  -1  1    590336  ultralytics.nn.modules.conv.Conv             [256, 256, 3, 2]              \n",
            " 20             [-1, 9]  1         0  ultralytics.nn.modules.conv.Concat           [1]                           \n",
            " 21                  -1  1   1969152  ultralytics.nn.modules.block.C2f             [768, 512, 1]                 \n",
            " 22        [15, 18, 21]  1   2117209  ultralytics.nn.modules.head.Detect           [3, [128, 256, 512]]          \n",
            "Model summary: 225 layers, 11,136,761 parameters, 11,136,745 gradients, 28.7 GFLOPs\n",
            "\n",
            "Transferred 349/355 items from pretrained weights\n",
            "\u001b[34m\u001b[1mTensorBoard: \u001b[0mStart with 'tensorboard --logdir runs/detect/train', view at http://localhost:6006/\n",
            "Freezing layer 'model.22.dfl.conv.weight'\n",
            "\u001b[34m\u001b[1mtrain: \u001b[0mScanning /kaggle/working/Dataset/labels/train... 4000 images, 0 backgrounds, 0 corrupt: 100% 4000/4000 [00:04<00:00, 947.10it/s]\n",
            "\u001b[34m\u001b[1mtrain: \u001b[0mNew cache created: /kaggle/working/Dataset/labels/train.cache\n",
            "/usr/local/lib/python3.10/dist-packages/albumentations/__init__.py:13: UserWarning: A new version of Albumentations is available: 1.4.16 (you have 1.4.15). Upgrade using: pip install -U albumentations. To disable automatic update checks, set the environment variable NO_ALBUMENTATIONS_UPDATE to 1.\n",
            "  check_for_updates()\n",
            "\u001b[34m\u001b[1malbumentations: \u001b[0mBlur(p=0.01, blur_limit=(3, 7)), MedianBlur(p=0.01, blur_limit=(3, 7)), ToGray(p=0.01, num_output_channels=3, method='weighted_average'), CLAHE(p=0.01, clip_limit=(1, 4.0), tile_grid_size=(8, 8))\n",
            "\u001b[34m\u001b[1mval: \u001b[0mScanning /kaggle/working/Dataset/labels/val... 500 images, 0 backgrounds, 0 corrupt: 100% 500/500 [00:00<00:00, 803.47it/s]\n",
            "\u001b[34m\u001b[1mval: \u001b[0mNew cache created: /kaggle/working/Dataset/labels/val.cache\n",
            "Plotting labels to runs/detect/train/labels.jpg... \n",
            "\u001b[34m\u001b[1moptimizer:\u001b[0m 'optimizer=auto' found, ignoring 'lr0=0.01' and 'momentum=0.937' and determining best 'optimizer', 'lr0' and 'momentum' automatically... \n",
            "\u001b[34m\u001b[1moptimizer:\u001b[0m AdamW(lr=0.001429, momentum=0.9) with parameter groups 57 weight(decay=0.0), 64 weight(decay=0.0005), 63 bias(decay=0.0)\n",
            "\u001b[34m\u001b[1mTensorBoard: \u001b[0mmodel graph visualization added ✅\n",
            "Image sizes 640 train, 640 val\n",
            "Using 0 dataloader workers\n",
            "Logging results to \u001b[1mruns/detect/train\u001b[0m\n",
            "Starting training for 20 epochs...\n",
            "\n",
            "      Epoch    GPU_mem   box_loss   cls_loss   dfl_loss  Instances       Size\n",
            "       1/20         0G      1.482      1.314      1.272         83        640: 100% 250/250 [2:34:28<00:00, 37.07s/it]\n",
            "                 Class     Images  Instances      Box(P          R      mAP50  mAP50-95): 100% 16/16 [07:12<00:00, 27.02s/it]\n",
            "                   all        500       2649      0.904      0.505      0.563      0.333\n",
            "\n",
            "      Epoch    GPU_mem   box_loss   cls_loss   dfl_loss  Instances       Size\n",
            "       2/20         0G      1.382     0.9563      1.198         61        640:  24% 61/250 [37:36<1:54:41, 36.41s/it]"
          ]
        }
      ]
    },
    {
      "cell_type": "code",
      "source": [
        "!ls /kaggle/working/runs/detect/train"
      ],
      "metadata": {
        "execution": {
          "iopub.status.busy": "2023-05-03T04:42:27.044905Z",
          "iopub.execute_input": "2023-05-03T04:42:27.046769Z",
          "iopub.status.idle": "2023-05-03T04:42:28.25144Z",
          "shell.execute_reply.started": "2023-05-03T04:42:27.046719Z",
          "shell.execute_reply": "2023-05-03T04:42:28.250363Z"
        },
        "trusted": true,
        "id": "n8rjjdhSVm2Z"
      },
      "execution_count": null,
      "outputs": []
    },
    {
      "cell_type": "code",
      "source": [
        "from IPython.display import Image, clear_output\n",
        "import matplotlib.pyplot as plt\n",
        "%matplotlib inline"
      ],
      "metadata": {
        "execution": {
          "iopub.status.busy": "2023-05-03T04:42:28.255318Z",
          "iopub.execute_input": "2023-05-03T04:42:28.255675Z",
          "iopub.status.idle": "2023-05-03T04:42:28.269531Z",
          "shell.execute_reply.started": "2023-05-03T04:42:28.255643Z",
          "shell.execute_reply": "2023-05-03T04:42:28.26843Z"
        },
        "trusted": true,
        "id": "bNvfteelVm2a"
      },
      "execution_count": null,
      "outputs": []
    },
    {
      "cell_type": "code",
      "source": [
        "Image(filename='/kaggle/working/runs/detect/train/F1_curve.png', width=600)"
      ],
      "metadata": {
        "execution": {
          "iopub.status.busy": "2023-05-03T04:42:28.273346Z",
          "iopub.execute_input": "2023-05-03T04:42:28.274043Z",
          "iopub.status.idle": "2023-05-03T04:42:28.302265Z",
          "shell.execute_reply.started": "2023-05-03T04:42:28.274006Z",
          "shell.execute_reply": "2023-05-03T04:42:28.301528Z"
        },
        "trusted": true,
        "id": "MZo7VCK8Vm2a"
      },
      "execution_count": null,
      "outputs": []
    },
    {
      "cell_type": "code",
      "source": [
        "import plotly.express as px\n",
        "import pandas as pd\n",
        "\n",
        "df = pd.read_csv(\"/kaggle/working/runs/detect/train/results.csv\")\n",
        "fig = px.line(df, x='                  epoch', y='       metrics/mAP50(B)', title='mAP50')\n",
        "fig.show()"
      ],
      "metadata": {
        "execution": {
          "iopub.status.busy": "2023-05-03T04:42:28.3031Z",
          "iopub.execute_input": "2023-05-03T04:42:28.303384Z",
          "iopub.status.idle": "2023-05-03T04:42:30.042145Z",
          "shell.execute_reply.started": "2023-05-03T04:42:28.303358Z",
          "shell.execute_reply": "2023-05-03T04:42:30.041267Z"
        },
        "trusted": true,
        "id": "QZz_Cu33Vm2a"
      },
      "execution_count": null,
      "outputs": []
    },
    {
      "cell_type": "code",
      "source": [
        "Image(filename='/kaggle/working/runs/detect/train/val_batch0_pred.jpg', width=1000)"
      ],
      "metadata": {
        "execution": {
          "iopub.status.busy": "2023-05-03T04:42:30.043427Z",
          "iopub.execute_input": "2023-05-03T04:42:30.044361Z",
          "iopub.status.idle": "2023-05-03T04:42:30.071899Z",
          "shell.execute_reply.started": "2023-05-03T04:42:30.044326Z",
          "shell.execute_reply": "2023-05-03T04:42:30.071156Z"
        },
        "trusted": true,
        "id": "vv0trPM8Vm2b"
      },
      "execution_count": null,
      "outputs": []
    },
    {
      "cell_type": "code",
      "source": [
        "!yolo task=detect mode=val model=/kaggle/working/runs/detect/train/weights/best.pt data=data.yaml"
      ],
      "metadata": {
        "execution": {
          "iopub.status.busy": "2023-05-03T04:42:30.073109Z",
          "iopub.execute_input": "2023-05-03T04:42:30.073611Z",
          "iopub.status.idle": "2023-05-03T04:43:00.363104Z",
          "shell.execute_reply.started": "2023-05-03T04:42:30.073581Z",
          "shell.execute_reply": "2023-05-03T04:43:00.361879Z"
        },
        "trusted": true,
        "id": "R8-LSVbcVm2b"
      },
      "execution_count": null,
      "outputs": []
    },
    {
      "cell_type": "code",
      "source": [],
      "metadata": {
        "id": "Sh115qLzVm2b"
      },
      "execution_count": null,
      "outputs": []
    }
  ]
}